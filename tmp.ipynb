{
 "cells": [
  {
   "cell_type": "code",
   "execution_count": 1,
   "outputs": [
    {
     "name": "stdout",
     "output_type": "stream",
     "text": [
      "변경 전 : list_1-- [1, 2, 3, 4, 5]\n",
      "변경 전 : list_2-- [1, 2, 3, 4, 5]\n",
      "변경 후 : list_1-- [10, 2, 3, 4, 5]\n",
      "변경 후 : list_2-- [10, 2, 3, 4, 5]\n"
     ]
    }
   ],
   "source": [
    "list_1 = [1, 2, 3, 4, 5]\n",
    "list_2 = list_1\n",
    "print(f\"변경 전 : list_1-- {list_1}\")\n",
    "print(f\"변경 전 : list_2-- {list_2}\")\n",
    "\n",
    "list_2[0] = 10\n",
    "print(f\"변경 후 : list_1-- {list_1}\")\n",
    "print(f\"변경 후 : list_2-- {list_2}\")"
   ],
   "metadata": {
    "collapsed": false,
    "ExecuteTime": {
     "end_time": "2023-08-07T14:42:02.609325600Z",
     "start_time": "2023-08-07T14:42:02.591789100Z"
    }
   }
  },
  {
   "cell_type": "code",
   "execution_count": 8,
   "outputs": [
    {
     "name": "stdout",
     "output_type": "stream",
     "text": [
      "[1, 2, 3, 4, 5]\n",
      "[10, 2, 3, 4, 5]\n"
     ]
    }
   ],
   "source": [
    "# copy() 메서드 사용\n",
    "data1 = [1, 2, 3, 4, 5]\n",
    "data2 = data1.copy()  # 또는 data2 = list(data1)\n",
    "\n",
    "data2[0] = 10\n",
    "print(data1) # 출력 : [1, 2, 3, 4, 5]\n",
    "print(data2) # 출력 : [10, 2, 3, 4, 5]"
   ],
   "metadata": {
    "collapsed": false,
    "ExecuteTime": {
     "end_time": "2023-08-07T14:51:06.034963100Z",
     "start_time": "2023-08-07T14:51:06.032676500Z"
    }
   }
  },
  {
   "cell_type": "code",
   "execution_count": 10,
   "outputs": [
    {
     "name": "stdout",
     "output_type": "stream",
     "text": [
      "[1, 2, 3, 4, 5]\n",
      "[10, 2, 3, 4, 5]\n"
     ]
    }
   ],
   "source": [
    "import copy\n",
    "\n",
    "data1 = [1, 2, 3, 4, 5]\n",
    "data2 = copy.deepcopy(data1)\n",
    "data2[0] = 10\n",
    "print(data1) # 출력 : [1, 2, 3, 4, 5]\n",
    "print(data2) # 출력 : [10, 2, 3, 4, 5]"
   ],
   "metadata": {
    "collapsed": false,
    "ExecuteTime": {
     "end_time": "2023-08-07T14:52:09.381416100Z",
     "start_time": "2023-08-07T14:52:09.378221400Z"
    }
   }
  },
  {
   "cell_type": "code",
   "execution_count": 11,
   "outputs": [
    {
     "name": "stdout",
     "output_type": "stream",
     "text": [
      "[1, 2, 3, 4, 5]\n"
     ]
    }
   ],
   "source": [
    "my_list = [1, 2, 3, 4, 5]\n",
    "reversed(my_list)\n",
    "print(my_list)  # 출력: [5, 4, 3, 2, 1]"
   ],
   "metadata": {
    "collapsed": false,
    "ExecuteTime": {
     "end_time": "2023-08-07T14:56:08.243437700Z",
     "start_time": "2023-08-07T14:56:08.240469200Z"
    }
   }
  },
  {
   "cell_type": "code",
   "execution_count": 15,
   "outputs": [
    {
     "name": "stdout",
     "output_type": "stream",
     "text": [
      "[2, 4, 6, 8]\n",
      "[5, 6, 7, 8, 9]\n"
     ]
    }
   ],
   "source": [
    "# 리스트 요소 중에서 조건에 맞는 요소만 남기기\n",
    "numbers = [1, 2, 3, 4, 5, 6, 7, 8, 9]\n",
    "\n",
    "# 짝수만 남기기\n",
    "even_numbers = [num for num in numbers if num % 2 == 0]\n",
    "print(even_numbers)  # 출력: [2, 4, 6, 8]\n",
    "\n",
    "# 5 이상인 수만 남기기\n",
    "above_five = [num for num in numbers if num >= 5]\n",
    "print(above_five)    # 출력: [5, 6, 7, 8, 9]"
   ],
   "metadata": {
    "collapsed": false,
    "ExecuteTime": {
     "end_time": "2023-08-07T14:58:21.160716400Z",
     "start_time": "2023-08-07T14:58:21.157889200Z"
    }
   }
  },
  {
   "cell_type": "code",
   "execution_count": 16,
   "outputs": [
    {
     "name": "stdout",
     "output_type": "stream",
     "text": [
      "[(1, 'a', 10), (2, 'b', 20), (3, 'c', 30)]\n"
     ]
    }
   ],
   "source": [
    "# zip() 함수 사용 예제\n",
    "list1 = [1, 2, 3]\n",
    "list2 = ['a', 'b', 'c']\n",
    "list3 = [10, 20, 30]\n",
    "\n",
    "# 세 개의 리스트를 zip() 함수로 묶어서 이터레이터 생성\n",
    "zipped = zip(list1, list2, list3)\n",
    "\n",
    "# zip()으로 묶인 객체를 list() 함수를 사용하여 리스트로 변환\n",
    "result = list(zipped)\n",
    "\n",
    "print(result)  # 출력: [(1, 'a', 10), (2, 'b', 20), (3, 'c', 30)]\n"
   ],
   "metadata": {
    "collapsed": false,
    "ExecuteTime": {
     "end_time": "2023-08-07T15:06:09.587004700Z",
     "start_time": "2023-08-07T15:06:09.574537600Z"
    }
   }
  },
  {
   "cell_type": "code",
   "execution_count": 18,
   "outputs": [
    {
     "name": "stdout",
     "output_type": "stream",
     "text": [
      "1 a 10\n",
      "2 b 20\n",
      "3 c 30\n"
     ]
    }
   ],
   "source": [
    "# zip() 함수와 unpack(분해)을 함께 사용하는 예제\n",
    "list1 = [1, 2, 3]\n",
    "list2 = ['a', 'b', 'c']\n",
    "list3 = [10, 20, 30]\n",
    "\n",
    "# zip() 함수로 리스트들을 묶은 후 분해하여 개별 변수에 할당\n",
    "for a, b, c in zip(list1, list2, list3):\n",
    "    print(a, b, c)\n",
    "\n",
    "# 출력:\n",
    "# 1 a 10\n",
    "# 2 b 20\n",
    "# 3 c 30\n"
   ],
   "metadata": {
    "collapsed": false,
    "ExecuteTime": {
     "end_time": "2023-08-07T15:08:32.836870500Z",
     "start_time": "2023-08-07T15:08:32.834681Z"
    }
   }
  },
  {
   "cell_type": "markdown",
   "source": [],
   "metadata": {
    "collapsed": false
   }
  },
  {
   "cell_type": "code",
   "execution_count": 22,
   "outputs": [
    {
     "name": "stdout",
     "output_type": "stream",
     "text": [
      "['apple', 'banana', 'orange', 'kiwi']\n"
     ]
    }
   ],
   "source": [
    "# 주어진 리스트\n",
    "fruits = ['apple', 'banana', 'orange', 'banana', 'kiwi', 'apple']\n",
    "\n",
    "# for문과 if문을 사용하여 중복 제거하기\n",
    "unique_fruits = []\n",
    "\n",
    "for fruit in fruits:\n",
    "    if fruit not in unique_fruits:\n",
    "        unique_fruits.append(fruit)\n",
    "\n",
    "# 결과 출력\n",
    "print(unique_fruits)  # 출력: ['apple', 'banana', 'orange', 'kiwi']\n"
   ],
   "metadata": {
    "collapsed": false,
    "ExecuteTime": {
     "end_time": "2023-08-07T15:28:16.466327500Z",
     "start_time": "2023-08-07T15:28:16.465322900Z"
    }
   }
  },
  {
   "cell_type": "markdown",
   "source": [],
   "metadata": {
    "collapsed": false
   }
  }
 ],
 "metadata": {
  "kernelspec": {
   "display_name": "Python 3",
   "language": "python",
   "name": "python3"
  },
  "language_info": {
   "codemirror_mode": {
    "name": "ipython",
    "version": 2
   },
   "file_extension": ".py",
   "mimetype": "text/x-python",
   "name": "python",
   "nbconvert_exporter": "python",
   "pygments_lexer": "ipython2",
   "version": "2.7.6"
  }
 },
 "nbformat": 4,
 "nbformat_minor": 0
}
